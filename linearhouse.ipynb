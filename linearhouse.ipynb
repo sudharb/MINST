{
  "nbformat": 4,
  "nbformat_minor": 0,
  "metadata": {
    "colab": {
      "provenance": [],
      "authorship_tag": "ABX9TyNVqAf/TgB1goqO+eqB9AZu",
      "include_colab_link": true
    },
    "kernelspec": {
      "name": "python3",
      "display_name": "Python 3"
    },
    "language_info": {
      "name": "python"
    }
  },
  "cells": [
    {
      "cell_type": "markdown",
      "metadata": {
        "id": "view-in-github",
        "colab_type": "text"
      },
      "source": [
        "<a href=\"https://colab.research.google.com/github/sudharb/MINST/blob/main/linearhouse.ipynb\" target=\"_parent\"><img src=\"https://colab.research.google.com/assets/colab-badge.svg\" alt=\"Open In Colab\"/></a>"
      ]
    },
    {
      "cell_type": "code",
      "execution_count": null,
      "metadata": {
        "id": "7eGqUauFDJAu"
      },
      "outputs": [],
      "source": [
        "import pandas as pd\n",
        "import numpy as np\n",
        "import math\n",
        "from matplotlib import pyplot as plt\n",
        "import seaborn as sns\n",
        "from sklearn.preprocessing import MinMaxScaler\n",
        "from statsmodels.stats.outliers_influence import variance_inflation_factor"
      ]
    },
    {
      "cell_type": "code",
      "source": [
        "df1 = pd.read_csv('/content/raw_house_data.csv')"
      ],
      "metadata": {
        "id": "KF2SRIOGDRmk"
      },
      "execution_count": null,
      "outputs": []
    },
    {
      "cell_type": "code",
      "source": [
        "df1.head()"
      ],
      "metadata": {
        "colab": {
          "base_uri": "https://localhost:8080/",
          "height": 444
        },
        "id": "cM4BP-rcDtiq",
        "outputId": "ada07856-6748-4490-b7a5-cde034c279f3"
      },
      "execution_count": null,
      "outputs": [
        {
          "output_type": "execute_result",
          "data": {
            "text/plain": [
              "        MLS  sold_price  zipcode   longitude   latitude  lot_acres     taxes  \\\n",
              "0  21530491   5300000.0    85637 -110.378200  31.356362    2154.00   5272.00   \n",
              "1  21529082   4200000.0    85646 -111.045371  31.594213    1707.00  10422.36   \n",
              "2   3054672   4200000.0    85646 -111.040707  31.594844    1707.00  10482.00   \n",
              "3  21919321   4500000.0    85646 -111.035925  31.645878     636.67   8418.58   \n",
              "4  21306357   3411450.0    85750 -110.813768  32.285162       3.21  15393.00   \n",
              "\n",
              "   year_built  bedrooms bathrooms sqrt_ft garage  \\\n",
              "0        1941        13        10   10500      0   \n",
              "1        1997         2         2    7300      0   \n",
              "2        1997         2         3    None   None   \n",
              "3        1930         7         5    9019      4   \n",
              "4        1995         4         6    6396      3   \n",
              "\n",
              "                                    kitchen_features fireplaces  \\\n",
              "0            Dishwasher, Freezer, Refrigerator, Oven          6   \n",
              "1                       Dishwasher, Garbage Disposal          5   \n",
              "2         Dishwasher, Garbage Disposal, Refrigerator          5   \n",
              "3  Dishwasher, Double Sink, Pantry: Butler, Refri...          4   \n",
              "4  Dishwasher, Garbage Disposal, Refrigerator, Mi...          5   \n",
              "\n",
              "                 floor_covering   HOA  \n",
              "0            Mexican Tile, Wood     0  \n",
              "1          Natural Stone, Other     0  \n",
              "2    Natural Stone, Other: Rock  None  \n",
              "3  Ceramic Tile, Laminate, Wood  None  \n",
              "4              Carpet, Concrete    55  "
            ],
            "text/html": [
              "\n",
              "  <div id=\"df-f6f9e724-5c55-4ce1-8c3c-847457adceeb\">\n",
              "    <div class=\"colab-df-container\">\n",
              "      <div>\n",
              "<style scoped>\n",
              "    .dataframe tbody tr th:only-of-type {\n",
              "        vertical-align: middle;\n",
              "    }\n",
              "\n",
              "    .dataframe tbody tr th {\n",
              "        vertical-align: top;\n",
              "    }\n",
              "\n",
              "    .dataframe thead th {\n",
              "        text-align: right;\n",
              "    }\n",
              "</style>\n",
              "<table border=\"1\" class=\"dataframe\">\n",
              "  <thead>\n",
              "    <tr style=\"text-align: right;\">\n",
              "      <th></th>\n",
              "      <th>MLS</th>\n",
              "      <th>sold_price</th>\n",
              "      <th>zipcode</th>\n",
              "      <th>longitude</th>\n",
              "      <th>latitude</th>\n",
              "      <th>lot_acres</th>\n",
              "      <th>taxes</th>\n",
              "      <th>year_built</th>\n",
              "      <th>bedrooms</th>\n",
              "      <th>bathrooms</th>\n",
              "      <th>sqrt_ft</th>\n",
              "      <th>garage</th>\n",
              "      <th>kitchen_features</th>\n",
              "      <th>fireplaces</th>\n",
              "      <th>floor_covering</th>\n",
              "      <th>HOA</th>\n",
              "    </tr>\n",
              "  </thead>\n",
              "  <tbody>\n",
              "    <tr>\n",
              "      <th>0</th>\n",
              "      <td>21530491</td>\n",
              "      <td>5300000.0</td>\n",
              "      <td>85637</td>\n",
              "      <td>-110.378200</td>\n",
              "      <td>31.356362</td>\n",
              "      <td>2154.00</td>\n",
              "      <td>5272.00</td>\n",
              "      <td>1941</td>\n",
              "      <td>13</td>\n",
              "      <td>10</td>\n",
              "      <td>10500</td>\n",
              "      <td>0</td>\n",
              "      <td>Dishwasher, Freezer, Refrigerator, Oven</td>\n",
              "      <td>6</td>\n",
              "      <td>Mexican Tile, Wood</td>\n",
              "      <td>0</td>\n",
              "    </tr>\n",
              "    <tr>\n",
              "      <th>1</th>\n",
              "      <td>21529082</td>\n",
              "      <td>4200000.0</td>\n",
              "      <td>85646</td>\n",
              "      <td>-111.045371</td>\n",
              "      <td>31.594213</td>\n",
              "      <td>1707.00</td>\n",
              "      <td>10422.36</td>\n",
              "      <td>1997</td>\n",
              "      <td>2</td>\n",
              "      <td>2</td>\n",
              "      <td>7300</td>\n",
              "      <td>0</td>\n",
              "      <td>Dishwasher, Garbage Disposal</td>\n",
              "      <td>5</td>\n",
              "      <td>Natural Stone, Other</td>\n",
              "      <td>0</td>\n",
              "    </tr>\n",
              "    <tr>\n",
              "      <th>2</th>\n",
              "      <td>3054672</td>\n",
              "      <td>4200000.0</td>\n",
              "      <td>85646</td>\n",
              "      <td>-111.040707</td>\n",
              "      <td>31.594844</td>\n",
              "      <td>1707.00</td>\n",
              "      <td>10482.00</td>\n",
              "      <td>1997</td>\n",
              "      <td>2</td>\n",
              "      <td>3</td>\n",
              "      <td>None</td>\n",
              "      <td>None</td>\n",
              "      <td>Dishwasher, Garbage Disposal, Refrigerator</td>\n",
              "      <td>5</td>\n",
              "      <td>Natural Stone, Other: Rock</td>\n",
              "      <td>None</td>\n",
              "    </tr>\n",
              "    <tr>\n",
              "      <th>3</th>\n",
              "      <td>21919321</td>\n",
              "      <td>4500000.0</td>\n",
              "      <td>85646</td>\n",
              "      <td>-111.035925</td>\n",
              "      <td>31.645878</td>\n",
              "      <td>636.67</td>\n",
              "      <td>8418.58</td>\n",
              "      <td>1930</td>\n",
              "      <td>7</td>\n",
              "      <td>5</td>\n",
              "      <td>9019</td>\n",
              "      <td>4</td>\n",
              "      <td>Dishwasher, Double Sink, Pantry: Butler, Refri...</td>\n",
              "      <td>4</td>\n",
              "      <td>Ceramic Tile, Laminate, Wood</td>\n",
              "      <td>None</td>\n",
              "    </tr>\n",
              "    <tr>\n",
              "      <th>4</th>\n",
              "      <td>21306357</td>\n",
              "      <td>3411450.0</td>\n",
              "      <td>85750</td>\n",
              "      <td>-110.813768</td>\n",
              "      <td>32.285162</td>\n",
              "      <td>3.21</td>\n",
              "      <td>15393.00</td>\n",
              "      <td>1995</td>\n",
              "      <td>4</td>\n",
              "      <td>6</td>\n",
              "      <td>6396</td>\n",
              "      <td>3</td>\n",
              "      <td>Dishwasher, Garbage Disposal, Refrigerator, Mi...</td>\n",
              "      <td>5</td>\n",
              "      <td>Carpet, Concrete</td>\n",
              "      <td>55</td>\n",
              "    </tr>\n",
              "  </tbody>\n",
              "</table>\n",
              "</div>\n",
              "      <button class=\"colab-df-convert\" onclick=\"convertToInteractive('df-f6f9e724-5c55-4ce1-8c3c-847457adceeb')\"\n",
              "              title=\"Convert this dataframe to an interactive table.\"\n",
              "              style=\"display:none;\">\n",
              "        \n",
              "  <svg xmlns=\"http://www.w3.org/2000/svg\" height=\"24px\"viewBox=\"0 0 24 24\"\n",
              "       width=\"24px\">\n",
              "    <path d=\"M0 0h24v24H0V0z\" fill=\"none\"/>\n",
              "    <path d=\"M18.56 5.44l.94 2.06.94-2.06 2.06-.94-2.06-.94-.94-2.06-.94 2.06-2.06.94zm-11 1L8.5 8.5l.94-2.06 2.06-.94-2.06-.94L8.5 2.5l-.94 2.06-2.06.94zm10 10l.94 2.06.94-2.06 2.06-.94-2.06-.94-.94-2.06-.94 2.06-2.06.94z\"/><path d=\"M17.41 7.96l-1.37-1.37c-.4-.4-.92-.59-1.43-.59-.52 0-1.04.2-1.43.59L10.3 9.45l-7.72 7.72c-.78.78-.78 2.05 0 2.83L4 21.41c.39.39.9.59 1.41.59.51 0 1.02-.2 1.41-.59l7.78-7.78 2.81-2.81c.8-.78.8-2.07 0-2.86zM5.41 20L4 18.59l7.72-7.72 1.47 1.35L5.41 20z\"/>\n",
              "  </svg>\n",
              "      </button>\n",
              "      \n",
              "  <style>\n",
              "    .colab-df-container {\n",
              "      display:flex;\n",
              "      flex-wrap:wrap;\n",
              "      gap: 12px;\n",
              "    }\n",
              "\n",
              "    .colab-df-convert {\n",
              "      background-color: #E8F0FE;\n",
              "      border: none;\n",
              "      border-radius: 50%;\n",
              "      cursor: pointer;\n",
              "      display: none;\n",
              "      fill: #1967D2;\n",
              "      height: 32px;\n",
              "      padding: 0 0 0 0;\n",
              "      width: 32px;\n",
              "    }\n",
              "\n",
              "    .colab-df-convert:hover {\n",
              "      background-color: #E2EBFA;\n",
              "      box-shadow: 0px 1px 2px rgba(60, 64, 67, 0.3), 0px 1px 3px 1px rgba(60, 64, 67, 0.15);\n",
              "      fill: #174EA6;\n",
              "    }\n",
              "\n",
              "    [theme=dark] .colab-df-convert {\n",
              "      background-color: #3B4455;\n",
              "      fill: #D2E3FC;\n",
              "    }\n",
              "\n",
              "    [theme=dark] .colab-df-convert:hover {\n",
              "      background-color: #434B5C;\n",
              "      box-shadow: 0px 1px 3px 1px rgba(0, 0, 0, 0.15);\n",
              "      filter: drop-shadow(0px 1px 2px rgba(0, 0, 0, 0.3));\n",
              "      fill: #FFFFFF;\n",
              "    }\n",
              "  </style>\n",
              "\n",
              "      <script>\n",
              "        const buttonEl =\n",
              "          document.querySelector('#df-f6f9e724-5c55-4ce1-8c3c-847457adceeb button.colab-df-convert');\n",
              "        buttonEl.style.display =\n",
              "          google.colab.kernel.accessAllowed ? 'block' : 'none';\n",
              "\n",
              "        async function convertToInteractive(key) {\n",
              "          const element = document.querySelector('#df-f6f9e724-5c55-4ce1-8c3c-847457adceeb');\n",
              "          const dataTable =\n",
              "            await google.colab.kernel.invokeFunction('convertToInteractive',\n",
              "                                                     [key], {});\n",
              "          if (!dataTable) return;\n",
              "\n",
              "          const docLinkHtml = 'Like what you see? Visit the ' +\n",
              "            '<a target=\"_blank\" href=https://colab.research.google.com/notebooks/data_table.ipynb>data table notebook</a>'\n",
              "            + ' to learn more about interactive tables.';\n",
              "          element.innerHTML = '';\n",
              "          dataTable['output_type'] = 'display_data';\n",
              "          await google.colab.output.renderOutput(dataTable, element);\n",
              "          const docLink = document.createElement('div');\n",
              "          docLink.innerHTML = docLinkHtml;\n",
              "          element.appendChild(docLink);\n",
              "        }\n",
              "      </script>\n",
              "    </div>\n",
              "  </div>\n",
              "  "
            ]
          },
          "metadata": {},
          "execution_count": 32
        }
      ]
    },
    {
      "cell_type": "code",
      "source": [
        "df1.info()"
      ],
      "metadata": {
        "colab": {
          "base_uri": "https://localhost:8080/"
        },
        "id": "tc1EHkSoEVTo",
        "outputId": "e9a94da6-13e5-4ced-a442-8c5e80cb3d11"
      },
      "execution_count": null,
      "outputs": [
        {
          "output_type": "stream",
          "name": "stdout",
          "text": [
            "<class 'pandas.core.frame.DataFrame'>\n",
            "RangeIndex: 5000 entries, 0 to 4999\n",
            "Data columns (total 16 columns):\n",
            " #   Column            Non-Null Count  Dtype  \n",
            "---  ------            --------------  -----  \n",
            " 0   MLS               5000 non-null   int64  \n",
            " 1   sold_price        5000 non-null   float64\n",
            " 2   zipcode           5000 non-null   int64  \n",
            " 3   longitude         5000 non-null   float64\n",
            " 4   latitude          5000 non-null   float64\n",
            " 5   lot_acres         4990 non-null   float64\n",
            " 6   taxes             5000 non-null   float64\n",
            " 7   year_built        5000 non-null   int64  \n",
            " 8   bedrooms          5000 non-null   int64  \n",
            " 9   bathrooms         5000 non-null   object \n",
            " 10  sqrt_ft           5000 non-null   object \n",
            " 11  garage            5000 non-null   object \n",
            " 12  kitchen_features  5000 non-null   object \n",
            " 13  fireplaces        5000 non-null   object \n",
            " 14  floor_covering    5000 non-null   object \n",
            " 15  HOA               5000 non-null   object \n",
            "dtypes: float64(5), int64(4), object(7)\n",
            "memory usage: 625.1+ KB\n"
          ]
        }
      ]
    },
    {
      "cell_type": "code",
      "source": [
        "df1.isnull().sum()"
      ],
      "metadata": {
        "colab": {
          "base_uri": "https://localhost:8080/"
        },
        "id": "uXgV1MCg3raw",
        "outputId": "370c0ae8-2fff-4307-fc69-e37358dfe02c"
      },
      "execution_count": null,
      "outputs": [
        {
          "output_type": "execute_result",
          "data": {
            "text/plain": [
              "MLS                  0\n",
              "sold_price           0\n",
              "zipcode              0\n",
              "longitude            0\n",
              "latitude             0\n",
              "lot_acres           10\n",
              "taxes                0\n",
              "year_built           0\n",
              "bedrooms             0\n",
              "bathrooms            0\n",
              "sqrt_ft              0\n",
              "garage               0\n",
              "kitchen_features     0\n",
              "fireplaces           0\n",
              "floor_covering       0\n",
              "HOA                  0\n",
              "dtype: int64"
            ]
          },
          "metadata": {},
          "execution_count": 34
        }
      ]
    },
    {
      "cell_type": "code",
      "source": [
        "df1['lot_acres']=df1['lot_acres'].fillna(df1.lot_acres.mean())\n",
        "df1.isnull().sum()"
      ],
      "metadata": {
        "colab": {
          "base_uri": "https://localhost:8080/"
        },
        "id": "Nn6u4Jfx37zm",
        "outputId": "1aad96df-cc14-4782-c32c-79b6a018d6ae"
      },
      "execution_count": null,
      "outputs": [
        {
          "output_type": "execute_result",
          "data": {
            "text/plain": [
              "MLS                 0\n",
              "sold_price          0\n",
              "zipcode             0\n",
              "longitude           0\n",
              "latitude            0\n",
              "lot_acres           0\n",
              "taxes               0\n",
              "year_built          0\n",
              "bedrooms            0\n",
              "bathrooms           0\n",
              "sqrt_ft             0\n",
              "garage              0\n",
              "kitchen_features    0\n",
              "fireplaces          0\n",
              "floor_covering      0\n",
              "HOA                 0\n",
              "dtype: int64"
            ]
          },
          "metadata": {},
          "execution_count": 35
        }
      ]
    },
    {
      "cell_type": "code",
      "source": [
        "X1=df1[['sqrt_ft','sold_price','zipcode','longitude','latitude','taxes','bedrooms']].copy()"
      ],
      "metadata": {
        "id": "tFnngV4lEbPo"
      },
      "execution_count": null,
      "outputs": []
    },
    {
      "cell_type": "code",
      "source": [
        "X1['sqrt_ft']=pd.to_numeric(X1['sqrt_ft'],errors='coerce')"
      ],
      "metadata": {
        "id": "zm7ampP3FPhd"
      },
      "execution_count": null,
      "outputs": []
    },
    {
      "cell_type": "code",
      "source": [
        "X1.info()"
      ],
      "metadata": {
        "colab": {
          "base_uri": "https://localhost:8080/"
        },
        "id": "DC8tkrHZF6oF",
        "outputId": "92e85b63-e3df-45d7-b94c-55d3b5573457"
      },
      "execution_count": null,
      "outputs": [
        {
          "output_type": "stream",
          "name": "stdout",
          "text": [
            "<class 'pandas.core.frame.DataFrame'>\n",
            "RangeIndex: 5000 entries, 0 to 4999\n",
            "Data columns (total 7 columns):\n",
            " #   Column      Non-Null Count  Dtype  \n",
            "---  ------      --------------  -----  \n",
            " 0   sqrt_ft     4944 non-null   float64\n",
            " 1   sold_price  5000 non-null   float64\n",
            " 2   zipcode     5000 non-null   int64  \n",
            " 3   longitude   5000 non-null   float64\n",
            " 4   latitude    5000 non-null   float64\n",
            " 5   taxes       5000 non-null   float64\n",
            " 6   bedrooms    5000 non-null   int64  \n",
            "dtypes: float64(5), int64(2)\n",
            "memory usage: 273.6 KB\n"
          ]
        }
      ]
    },
    {
      "cell_type": "code",
      "source": [
        "X1['sqrt_ft']"
      ],
      "metadata": {
        "colab": {
          "base_uri": "https://localhost:8080/"
        },
        "id": "mioCxagQH0-F",
        "outputId": "6519a79d-86f1-4a39-f258-455c9bd31205"
      },
      "execution_count": null,
      "outputs": [
        {
          "output_type": "execute_result",
          "data": {
            "text/plain": [
              "0       10500.0\n",
              "1        7300.0\n",
              "2           NaN\n",
              "3        9019.0\n",
              "4        6396.0\n",
              "         ...   \n",
              "4995     3601.0\n",
              "4996     2318.0\n",
              "4997     1772.0\n",
              "4998     3724.0\n",
              "4999     4317.0\n",
              "Name: sqrt_ft, Length: 5000, dtype: float64"
            ]
          },
          "metadata": {},
          "execution_count": 39
        }
      ]
    },
    {
      "cell_type": "code",
      "source": [
        "\n",
        "X1['sqrt_ft']=X1['sqrt_ft'].fillna(X1.sqrt_ft.mean())"
      ],
      "metadata": {
        "id": "KxI4Vs7sHC5l"
      },
      "execution_count": null,
      "outputs": []
    },
    {
      "cell_type": "code",
      "source": [
        "X1['sqrt_ft']"
      ],
      "metadata": {
        "colab": {
          "base_uri": "https://localhost:8080/"
        },
        "id": "ZskdEBjEHwdz",
        "outputId": "6b177d8b-4406-44f1-a56a-33c4c7dec71e"
      },
      "execution_count": null,
      "outputs": [
        {
          "output_type": "execute_result",
          "data": {
            "text/plain": [
              "0       10500.000000\n",
              "1        7300.000000\n",
              "2        3716.366828\n",
              "3        9019.000000\n",
              "4        6396.000000\n",
              "            ...     \n",
              "4995     3601.000000\n",
              "4996     2318.000000\n",
              "4997     1772.000000\n",
              "4998     3724.000000\n",
              "4999     4317.000000\n",
              "Name: sqrt_ft, Length: 5000, dtype: float64"
            ]
          },
          "metadata": {},
          "execution_count": 41
        }
      ]
    },
    {
      "cell_type": "code",
      "source": [
        "X2=X1[['longitude','latitude']].copy()\n",
        "X2['lngt']=X1['longitude'].apply(lambda X: int(math.ceil(X)))\n",
        "X2['lat']=X1['latitude'].apply(lambda X: int(math.ceil(X)))\n"
      ],
      "metadata": {
        "id": "MJNHDuJ1Zmrz"
      },
      "execution_count": null,
      "outputs": []
    },
    {
      "cell_type": "code",
      "source": [
        "X1['sold_price']=X1['sold_price'].astype(int)\n",
        "X1['sqrt_ft']=X1['sqrt_ft'].astype(int)\n",
        "X1['bedrooms']=X1['bedrooms'].astype(int)\n",
        "X1['longitude']=X1['longitude'].astype(int)\n",
        "X1['latitude']=X1['latitude'].astype(int)\n",
        "X1['taxes']=X1['taxes'].astype(int)"
      ],
      "metadata": {
        "id": "vvfRqvp_GBSo"
      },
      "execution_count": null,
      "outputs": []
    },
    {
      "cell_type": "code",
      "source": [
        "X1.info()"
      ],
      "metadata": {
        "colab": {
          "base_uri": "https://localhost:8080/"
        },
        "id": "hYDs0b2MIFr6",
        "outputId": "b376464d-d8dd-4e04-d0ac-70c493735226"
      },
      "execution_count": null,
      "outputs": [
        {
          "output_type": "stream",
          "name": "stdout",
          "text": [
            "<class 'pandas.core.frame.DataFrame'>\n",
            "RangeIndex: 5000 entries, 0 to 4999\n",
            "Data columns (total 7 columns):\n",
            " #   Column      Non-Null Count  Dtype\n",
            "---  ------      --------------  -----\n",
            " 0   sqrt_ft     5000 non-null   int64\n",
            " 1   sold_price  5000 non-null   int64\n",
            " 2   zipcode     5000 non-null   int64\n",
            " 3   longitude   5000 non-null   int64\n",
            " 4   latitude    5000 non-null   int64\n",
            " 5   taxes       5000 non-null   int64\n",
            " 6   bedrooms    5000 non-null   int64\n",
            "dtypes: int64(7)\n",
            "memory usage: 273.6 KB\n"
          ]
        }
      ]
    },
    {
      "cell_type": "code",
      "source": [],
      "metadata": {
        "id": "iXHErK_Geaka"
      },
      "execution_count": null,
      "outputs": []
    },
    {
      "cell_type": "code",
      "source": [
        "\n",
        "X2=X1[['sold_price','sqrt_ft','longitude','latitude']].copy()"
      ],
      "metadata": {
        "id": "p16jqfAVUxXj"
      },
      "execution_count": null,
      "outputs": []
    },
    {
      "cell_type": "code",
      "source": [
        "X2"
      ],
      "metadata": {
        "colab": {
          "base_uri": "https://localhost:8080/",
          "height": 424
        },
        "id": "eGd5COuRVLVl",
        "outputId": "69f8a291-98b4-4bba-acf6-68ce3614beec"
      },
      "execution_count": null,
      "outputs": [
        {
          "output_type": "execute_result",
          "data": {
            "text/plain": [
              "      sold_price  sqrt_ft  longitude  latitude  bedrooms\n",
              "437       900000     5299       -110        32         5\n",
              "590       900000     2759       -111        31         3\n",
              "601       850000     4594       -110        32         4\n",
              "621       900000     5443       -110        32         4\n",
              "629       900000     9284       -111        32         5\n",
              "...          ...      ...        ...       ...       ...\n",
              "4995      495000     3601       -110        31         5\n",
              "4996      550000     2318       -110        32         4\n",
              "4997      475000     1772       -110        32         3\n",
              "4998      550000     3724       -111        32         4\n",
              "4999      450000     4317       -110        31         4\n",
              "\n",
              "[4042 rows x 5 columns]"
            ],
            "text/html": [
              "\n",
              "  <div id=\"df-c9e70be2-20c0-4dad-ac07-0ecc7250ddd5\">\n",
              "    <div class=\"colab-df-container\">\n",
              "      <div>\n",
              "<style scoped>\n",
              "    .dataframe tbody tr th:only-of-type {\n",
              "        vertical-align: middle;\n",
              "    }\n",
              "\n",
              "    .dataframe tbody tr th {\n",
              "        vertical-align: top;\n",
              "    }\n",
              "\n",
              "    .dataframe thead th {\n",
              "        text-align: right;\n",
              "    }\n",
              "</style>\n",
              "<table border=\"1\" class=\"dataframe\">\n",
              "  <thead>\n",
              "    <tr style=\"text-align: right;\">\n",
              "      <th></th>\n",
              "      <th>sold_price</th>\n",
              "      <th>sqrt_ft</th>\n",
              "      <th>longitude</th>\n",
              "      <th>latitude</th>\n",
              "      <th>bedrooms</th>\n",
              "    </tr>\n",
              "  </thead>\n",
              "  <tbody>\n",
              "    <tr>\n",
              "      <th>437</th>\n",
              "      <td>900000</td>\n",
              "      <td>5299</td>\n",
              "      <td>-110</td>\n",
              "      <td>32</td>\n",
              "      <td>5</td>\n",
              "    </tr>\n",
              "    <tr>\n",
              "      <th>590</th>\n",
              "      <td>900000</td>\n",
              "      <td>2759</td>\n",
              "      <td>-111</td>\n",
              "      <td>31</td>\n",
              "      <td>3</td>\n",
              "    </tr>\n",
              "    <tr>\n",
              "      <th>601</th>\n",
              "      <td>850000</td>\n",
              "      <td>4594</td>\n",
              "      <td>-110</td>\n",
              "      <td>32</td>\n",
              "      <td>4</td>\n",
              "    </tr>\n",
              "    <tr>\n",
              "      <th>621</th>\n",
              "      <td>900000</td>\n",
              "      <td>5443</td>\n",
              "      <td>-110</td>\n",
              "      <td>32</td>\n",
              "      <td>4</td>\n",
              "    </tr>\n",
              "    <tr>\n",
              "      <th>629</th>\n",
              "      <td>900000</td>\n",
              "      <td>9284</td>\n",
              "      <td>-111</td>\n",
              "      <td>32</td>\n",
              "      <td>5</td>\n",
              "    </tr>\n",
              "    <tr>\n",
              "      <th>...</th>\n",
              "      <td>...</td>\n",
              "      <td>...</td>\n",
              "      <td>...</td>\n",
              "      <td>...</td>\n",
              "      <td>...</td>\n",
              "    </tr>\n",
              "    <tr>\n",
              "      <th>4995</th>\n",
              "      <td>495000</td>\n",
              "      <td>3601</td>\n",
              "      <td>-110</td>\n",
              "      <td>31</td>\n",
              "      <td>5</td>\n",
              "    </tr>\n",
              "    <tr>\n",
              "      <th>4996</th>\n",
              "      <td>550000</td>\n",
              "      <td>2318</td>\n",
              "      <td>-110</td>\n",
              "      <td>32</td>\n",
              "      <td>4</td>\n",
              "    </tr>\n",
              "    <tr>\n",
              "      <th>4997</th>\n",
              "      <td>475000</td>\n",
              "      <td>1772</td>\n",
              "      <td>-110</td>\n",
              "      <td>32</td>\n",
              "      <td>3</td>\n",
              "    </tr>\n",
              "    <tr>\n",
              "      <th>4998</th>\n",
              "      <td>550000</td>\n",
              "      <td>3724</td>\n",
              "      <td>-111</td>\n",
              "      <td>32</td>\n",
              "      <td>4</td>\n",
              "    </tr>\n",
              "    <tr>\n",
              "      <th>4999</th>\n",
              "      <td>450000</td>\n",
              "      <td>4317</td>\n",
              "      <td>-110</td>\n",
              "      <td>31</td>\n",
              "      <td>4</td>\n",
              "    </tr>\n",
              "  </tbody>\n",
              "</table>\n",
              "<p>4042 rows × 5 columns</p>\n",
              "</div>\n",
              "      <button class=\"colab-df-convert\" onclick=\"convertToInteractive('df-c9e70be2-20c0-4dad-ac07-0ecc7250ddd5')\"\n",
              "              title=\"Convert this dataframe to an interactive table.\"\n",
              "              style=\"display:none;\">\n",
              "        \n",
              "  <svg xmlns=\"http://www.w3.org/2000/svg\" height=\"24px\"viewBox=\"0 0 24 24\"\n",
              "       width=\"24px\">\n",
              "    <path d=\"M0 0h24v24H0V0z\" fill=\"none\"/>\n",
              "    <path d=\"M18.56 5.44l.94 2.06.94-2.06 2.06-.94-2.06-.94-.94-2.06-.94 2.06-2.06.94zm-11 1L8.5 8.5l.94-2.06 2.06-.94-2.06-.94L8.5 2.5l-.94 2.06-2.06.94zm10 10l.94 2.06.94-2.06 2.06-.94-2.06-.94-.94-2.06-.94 2.06-2.06.94z\"/><path d=\"M17.41 7.96l-1.37-1.37c-.4-.4-.92-.59-1.43-.59-.52 0-1.04.2-1.43.59L10.3 9.45l-7.72 7.72c-.78.78-.78 2.05 0 2.83L4 21.41c.39.39.9.59 1.41.59.51 0 1.02-.2 1.41-.59l7.78-7.78 2.81-2.81c.8-.78.8-2.07 0-2.86zM5.41 20L4 18.59l7.72-7.72 1.47 1.35L5.41 20z\"/>\n",
              "  </svg>\n",
              "      </button>\n",
              "      \n",
              "  <style>\n",
              "    .colab-df-container {\n",
              "      display:flex;\n",
              "      flex-wrap:wrap;\n",
              "      gap: 12px;\n",
              "    }\n",
              "\n",
              "    .colab-df-convert {\n",
              "      background-color: #E8F0FE;\n",
              "      border: none;\n",
              "      border-radius: 50%;\n",
              "      cursor: pointer;\n",
              "      display: none;\n",
              "      fill: #1967D2;\n",
              "      height: 32px;\n",
              "      padding: 0 0 0 0;\n",
              "      width: 32px;\n",
              "    }\n",
              "\n",
              "    .colab-df-convert:hover {\n",
              "      background-color: #E2EBFA;\n",
              "      box-shadow: 0px 1px 2px rgba(60, 64, 67, 0.3), 0px 1px 3px 1px rgba(60, 64, 67, 0.15);\n",
              "      fill: #174EA6;\n",
              "    }\n",
              "\n",
              "    [theme=dark] .colab-df-convert {\n",
              "      background-color: #3B4455;\n",
              "      fill: #D2E3FC;\n",
              "    }\n",
              "\n",
              "    [theme=dark] .colab-df-convert:hover {\n",
              "      background-color: #434B5C;\n",
              "      box-shadow: 0px 1px 3px 1px rgba(0, 0, 0, 0.15);\n",
              "      filter: drop-shadow(0px 1px 2px rgba(0, 0, 0, 0.3));\n",
              "      fill: #FFFFFF;\n",
              "    }\n",
              "  </style>\n",
              "\n",
              "      <script>\n",
              "        const buttonEl =\n",
              "          document.querySelector('#df-c9e70be2-20c0-4dad-ac07-0ecc7250ddd5 button.colab-df-convert');\n",
              "        buttonEl.style.display =\n",
              "          google.colab.kernel.accessAllowed ? 'block' : 'none';\n",
              "\n",
              "        async function convertToInteractive(key) {\n",
              "          const element = document.querySelector('#df-c9e70be2-20c0-4dad-ac07-0ecc7250ddd5');\n",
              "          const dataTable =\n",
              "            await google.colab.kernel.invokeFunction('convertToInteractive',\n",
              "                                                     [key], {});\n",
              "          if (!dataTable) return;\n",
              "\n",
              "          const docLinkHtml = 'Like what you see? Visit the ' +\n",
              "            '<a target=\"_blank\" href=https://colab.research.google.com/notebooks/data_table.ipynb>data table notebook</a>'\n",
              "            + ' to learn more about interactive tables.';\n",
              "          element.innerHTML = '';\n",
              "          dataTable['output_type'] = 'display_data';\n",
              "          await google.colab.output.renderOutput(dataTable, element);\n",
              "          const docLink = document.createElement('div');\n",
              "          docLink.innerHTML = docLinkHtml;\n",
              "          element.appendChild(docLink);\n",
              "        }\n",
              "      </script>\n",
              "    </div>\n",
              "  </div>\n",
              "  "
            ]
          },
          "metadata": {},
          "execution_count": 240
        }
      ]
    },
    {
      "cell_type": "code",
      "source": [
        "from google.colab import drive\n",
        "drive.mount('/content/drive')"
      ],
      "metadata": {
        "id": "m7lilsXHtryg"
      },
      "execution_count": null,
      "outputs": []
    },
    {
      "cell_type": "code",
      "source": [],
      "metadata": {
        "id": "-k2MOoGjt42L"
      },
      "execution_count": null,
      "outputs": []
    },
    {
      "cell_type": "markdown",
      "source": [
        "# New section"
      ],
      "metadata": {
        "id": "T0PsogIDt6SX"
      }
    },
    {
      "cell_type": "markdown",
      "source": [
        "# New section"
      ],
      "metadata": {
        "id": "bVwKwKINtLnk"
      }
    },
    {
      "cell_type": "code",
      "source": [
        "\n",
        "X3=(X2['sold_price']/X2['sqrt_ft']).astype(int)\n",
        "\n",
        "X3.size\n",
        "\n"
      ],
      "metadata": {
        "colab": {
          "base_uri": "https://localhost:8080/"
        },
        "id": "C4WXJGz5tiT_",
        "outputId": "cfb3b77b-d462-4d2a-96a4-747ec8041d57"
      },
      "execution_count": null,
      "outputs": [
        {
          "output_type": "execute_result",
          "data": {
            "text/plain": [
              "5000"
            ]
          },
          "metadata": {},
          "execution_count": 52
        }
      ]
    },
    {
      "cell_type": "code",
      "source": [
        "X4=X2.drop(['sold_price','sqrt_ft'], axis=1)\n",
        "X4=X4.to_numpy()"
      ],
      "metadata": {
        "id": "4PvbJl9bv2JW"
      },
      "execution_count": null,
      "outputs": []
    },
    {
      "cell_type": "code",
      "source": [
        "\n",
        "\n",
        "\n",
        "y=X3\n",
        "print(len(y))"
      ],
      "metadata": {
        "colab": {
          "base_uri": "https://localhost:8080/"
        },
        "id": "dFDa-EIkyP28",
        "outputId": "74310281-8e10-4e72-c959-e8e37f4de24f"
      },
      "execution_count": null,
      "outputs": [
        {
          "output_type": "stream",
          "name": "stdout",
          "text": [
            "5000\n"
          ]
        }
      ]
    },
    {
      "cell_type": "code",
      "source": [
        "y=y.to_numpy()"
      ],
      "metadata": {
        "id": "9_LC3t7LS8rD"
      },
      "execution_count": null,
      "outputs": []
    },
    {
      "cell_type": "code",
      "source": [],
      "metadata": {
        "id": "TbFuWForhpiv"
      },
      "execution_count": null,
      "outputs": []
    },
    {
      "cell_type": "code",
      "source": [],
      "metadata": {
        "id": "BFpLyil6TBKc"
      },
      "execution_count": null,
      "outputs": []
    },
    {
      "cell_type": "code",
      "source": [
        "from sklearn.model_selection import train_test_split"
      ],
      "metadata": {
        "id": "WO4EQLNokEUA"
      },
      "execution_count": null,
      "outputs": []
    },
    {
      "cell_type": "code",
      "source": [
        "X_train, X_test, y_train, y_test = train_test_split(\n",
        "    X4, y, test_size=0.2, random_state=0)"
      ],
      "metadata": {
        "id": "xP1J6shqqyfH"
      },
      "execution_count": null,
      "outputs": []
    },
    {
      "cell_type": "code",
      "source": [
        "X_train.shape\n",
        "A0=X_train[0:500,:]\n",
        "A1=X_train[500:1000,:]\n",
        "A3=X_train[1000:1500,:]\n",
        "A4=X_train[1500:2000,:]\n",
        "A5=X_train[2000:2500,:]\n",
        "A6=X_train[2500:3000,:]\n",
        "A7=X_train[3000:3500,:]\n",
        "A8=X_train[3500:4000,:]\n",
        "len(A8)"
      ],
      "metadata": {
        "id": "Yyys5qHSD8IE",
        "colab": {
          "base_uri": "https://localhost:8080/"
        },
        "outputId": "27598e69-5d7f-4240-812a-ed1b366f4f87"
      },
      "execution_count": null,
      "outputs": [
        {
          "output_type": "execute_result",
          "data": {
            "text/plain": [
              "500"
            ]
          },
          "metadata": {},
          "execution_count": 59
        }
      ]
    },
    {
      "cell_type": "code",
      "source": [
        "y_train.size\n",
        "g1=y_train[0:500]\n",
        "g2=y_train[500:1000]\n",
        "g3=y_train[1000:1500]\n",
        "g4=y_train[1500:2000]\n",
        "g5=y_train[2000-2500]\n",
        "g6=y_train[2500:3000]\n",
        "g7=y_train[3000:3500]\n",
        "g8=y_train[3500:4000]\n",
        "g1"
      ],
      "metadata": {
        "id": "zQ_yQF-Vlo3V",
        "colab": {
          "base_uri": "https://localhost:8080/"
        },
        "outputId": "3c61d9ab-40bd-4b81-8bc8-83d0447b780e"
      },
      "execution_count": null,
      "outputs": [
        {
          "output_type": "execute_result",
          "data": {
            "text/plain": [
              "array([181, 216, 335, 213, 200, 195, 180, 225, 222, 198, 134, 172, 188,\n",
              "       217, 284,  98, 192, 293, 182, 166, 205, 167, 209, 297, 377, 178,\n",
              "       363, 146, 237, 169, 186, 175, 217, 155, 122, 159, 229, 138, 200,\n",
              "       142, 167, 183, 202, 333, 342, 156, 161, 225, 190, 248, 172, 240,\n",
              "       332, 214, 233, 170, 185, 175, 192, 167, 203, 270, 151, 209, 193,\n",
              "       191, 150, 294, 123, 180, 248, 157, 114, 172, 230, 218, 178, 167,\n",
              "       199, 156, 182, 219, 245, 229, 249, 121, 145, 177, 183, 238, 157,\n",
              "       190, 187, 228, 228, 223, 195, 208, 286, 147, 268, 161, 168, 188,\n",
              "       195, 206, 123, 150, 278, 160, 178, 202, 160, 582, 177, 208, 189,\n",
              "       290, 182, 236, 260, 244, 313, 240, 191, 268, 248, 221, 292, 128,\n",
              "       144, 174, 175, 200, 200, 217, 175, 197, 200, 222, 197, 205, 157,\n",
              "       208, 190, 170, 190, 229, 283, 109, 191, 148, 222, 308, 292, 223,\n",
              "       196, 345, 575, 210, 150, 144, 253, 175, 199, 309, 216, 235, 190,\n",
              "       214, 187, 217, 178, 199, 209, 175, 216, 167, 167, 236, 225, 231,\n",
              "       177, 186, 235, 168, 210, 214, 205, 223, 233, 307, 185, 190, 221,\n",
              "       125, 167, 202, 271, 169, 166, 218, 200, 166, 212, 155, 208, 256,\n",
              "       201, 147, 286, 291, 220, 212, 268, 201, 298, 192, 235, 241, 187,\n",
              "       202, 156, 157, 227, 240, 205, 303, 191, 174, 160, 221, 184, 201,\n",
              "       236, 165, 242, 223, 175, 280, 186, 139, 150, 179, 279, 287, 175,\n",
              "       412, 209, 195, 221, 215, 184, 173, 212, 146, 246, 156, 188, 142,\n",
              "       225, 168, 177, 181, 145, 156, 148, 256, 271, 202, 190, 170, 238,\n",
              "       200, 182, 177, 181, 222, 178, 174, 177, 217, 159, 229, 239, 221,\n",
              "       203, 172, 203, 212, 212, 157, 296, 192, 202, 188, 218, 155, 207,\n",
              "       457, 254, 231, 257, 216, 110, 298, 227, 143, 209, 177, 165, 204,\n",
              "       195, 155, 195, 225, 327, 145, 167, 282, 250, 157, 219, 215, 176,\n",
              "       165, 200, 273, 141, 165, 209, 196, 188, 202, 210, 210, 138, 202,\n",
              "       198, 205, 492, 301, 343, 223, 264, 163, 175, 209, 214, 193, 203,\n",
              "       219, 242, 173, 170, 182, 238, 216, 244, 177, 109, 232, 194, 170,\n",
              "       158, 333, 127, 229, 226, 291, 201, 208, 237, 228, 157, 207, 279,\n",
              "       217, 160, 161, 344, 209, 323, 178, 171, 184, 175, 231, 202, 146,\n",
              "       174, 194, 175, 143, 187, 189, 151, 265, 174, 237, 161, 242, 202,\n",
              "       133, 136, 181, 317, 143, 154, 192, 173, 109, 262, 185, 201, 216,\n",
              "       188, 164, 189, 193, 146, 209, 179, 299, 179, 191, 142, 256, 241,\n",
              "       252, 189, 240, 199, 224, 212, 244, 260, 174, 241, 195, 178, 166,\n",
              "       125, 125, 245, 181, 209, 256, 198, 234, 213, 188, 200, 158, 203,\n",
              "       215, 162, 178, 255, 300, 188, 163, 244, 214, 241, 182, 239, 148,\n",
              "       217, 214, 179, 284, 226, 181, 207, 174, 142, 227, 259, 178, 137,\n",
              "       240, 293, 219, 206, 224, 129, 171, 264, 240, 201, 254, 154, 277,\n",
              "       251, 177, 272, 251, 180, 186])"
            ]
          },
          "metadata": {},
          "execution_count": 60
        }
      ]
    },
    {
      "cell_type": "code",
      "source": [
        "class KNNClassifier():\n",
        "    def fit(self,X,y):\n",
        "        self.X=X\n",
        "        self.y=y\n",
        "        \n",
        "    def predict(self,X,K):\n",
        "        epsilon=1e-3\n",
        "        N=len(X)\n",
        "        y_hat=np.zeros(N)\n",
        "        \n",
        "        for i in range(N):\n",
        "            dist2=np.sum((self.X-X[i])**2,axis=1)\n",
        "            idxt = np.argsort(dist2)[:K]\n",
        "            gamma_k=1/(np.sqrt(dist2[idxt]+epsilon))\n",
        "            y_hat[i]=np.bincount(self.y[idxt], weights=gamma_k).argmax()\n",
        "            \n",
        "        return y_hat"
      ],
      "metadata": {
        "id": "gv7ceZDI2dUy"
      },
      "execution_count": null,
      "outputs": []
    },
    {
      "cell_type": "code",
      "source": [
        "knn =  KNNClassifier()"
      ],
      "metadata": {
        "id": "5W4NcjJi2kBe"
      },
      "execution_count": null,
      "outputs": []
    },
    {
      "cell_type": "code",
      "source": [
        "for k in range (5,20):\n",
        "  knn.fit(A0,g1)\n",
        "  y_hat0=knn.predict(A0,5)"
      ],
      "metadata": {
        "id": "KfvorzFG2u1N"
      },
      "execution_count": null,
      "outputs": []
    },
    {
      "cell_type": "code",
      "source": [
        "for k in range (5,20):\n",
        "  knn.fit(A1,g2)\n",
        "  y_hat1=knn.predict(A1,5)"
      ],
      "metadata": {
        "id": "vdwXaCpgIlwc"
      },
      "execution_count": null,
      "outputs": []
    },
    {
      "cell_type": "code",
      "source": [
        "for k in range(5,20):\n",
        "  knn.fit(A3,g3)\n",
        "  y_hat3=knn.predict(A3,5)"
      ],
      "metadata": {
        "id": "ktNYhTAfI9kp"
      },
      "execution_count": null,
      "outputs": []
    },
    {
      "cell_type": "code",
      "source": [
        "knn.fit(A4,g4)\n",
        "y_hat4=knn.predict(A4,5)"
      ],
      "metadata": {
        "id": "QgJJn9A2JYFY"
      },
      "execution_count": null,
      "outputs": []
    },
    {
      "cell_type": "code",
      "source": [
        "knn.fit(A5,g5)\n"
      ],
      "metadata": {
        "id": "RmNAHIUvJg9g"
      },
      "execution_count": null,
      "outputs": []
    },
    {
      "cell_type": "code",
      "source": [
        "knn.fit(A6,g6)\n",
        "y_hat6=knn.predict(A6,5)"
      ],
      "metadata": {
        "id": "sUQxwlLgJn3R"
      },
      "execution_count": null,
      "outputs": []
    },
    {
      "cell_type": "code",
      "source": [
        "knn.fit(A7,g7)\n",
        "y_hat7=knn.predict(A7,5)"
      ],
      "metadata": {
        "id": "U2Nu9XSIJvSh"
      },
      "execution_count": null,
      "outputs": []
    },
    {
      "cell_type": "code",
      "source": [
        "knn.fit(A8,g8)\n",
        "y_hat8=knn.predict(A8,5)"
      ],
      "metadata": {
        "id": "bxHWFeNUJ2_4"
      },
      "execution_count": null,
      "outputs": []
    },
    {
      "cell_type": "code",
      "source": [],
      "metadata": {
        "id": "Wf6f4SwBEg3x"
      },
      "execution_count": null,
      "outputs": []
    },
    {
      "cell_type": "code",
      "source": [
        "def accuracy(y,y_hat):\n",
        "    return np.mean(y==y_hat)"
      ],
      "metadata": {
        "id": "TSOYkdnl3n1v"
      },
      "execution_count": null,
      "outputs": []
    },
    {
      "cell_type": "code",
      "source": [
        "import pandas as pd\n",
        "import numpy as np\n",
        "import math\n",
        "from matplotlib import pyplot as plt\n",
        "import seaborn as sns\n",
        "from sklearn.preprocessing import MinMaxScaler\n",
        "from statsmodels.stats.outliers_influence import variance_inflation_factor\n",
        "\n"
      ],
      "metadata": {
        "id": "HmvpBjfL7oc_"
      },
      "execution_count": null,
      "outputs": []
    },
    {
      "cell_type": "code",
      "source": [
        "df5 = pd.read_csv('/content/raw_house_data.csv')\n",
        "df5.head()"
      ],
      "metadata": {
        "colab": {
          "base_uri": "https://localhost:8080/",
          "height": 444
        },
        "id": "imkflkb1IHWq",
        "outputId": "dbd810a1-b632-48a4-a31e-3afc55c19035"
      },
      "execution_count": null,
      "outputs": [
        {
          "output_type": "execute_result",
          "data": {
            "text/plain": [
              "        MLS  sold_price  zipcode   longitude   latitude  lot_acres     taxes  \\\n",
              "0  21530491   5300000.0    85637 -110.378200  31.356362    2154.00   5272.00   \n",
              "1  21529082   4200000.0    85646 -111.045371  31.594213    1707.00  10422.36   \n",
              "2   3054672   4200000.0    85646 -111.040707  31.594844    1707.00  10482.00   \n",
              "3  21919321   4500000.0    85646 -111.035925  31.645878     636.67   8418.58   \n",
              "4  21306357   3411450.0    85750 -110.813768  32.285162       3.21  15393.00   \n",
              "\n",
              "   year_built  bedrooms bathrooms sqrt_ft garage  \\\n",
              "0        1941        13        10   10500      0   \n",
              "1        1997         2         2    7300      0   \n",
              "2        1997         2         3    None   None   \n",
              "3        1930         7         5    9019      4   \n",
              "4        1995         4         6    6396      3   \n",
              "\n",
              "                                    kitchen_features fireplaces  \\\n",
              "0            Dishwasher, Freezer, Refrigerator, Oven          6   \n",
              "1                       Dishwasher, Garbage Disposal          5   \n",
              "2         Dishwasher, Garbage Disposal, Refrigerator          5   \n",
              "3  Dishwasher, Double Sink, Pantry: Butler, Refri...          4   \n",
              "4  Dishwasher, Garbage Disposal, Refrigerator, Mi...          5   \n",
              "\n",
              "                 floor_covering   HOA  \n",
              "0            Mexican Tile, Wood     0  \n",
              "1          Natural Stone, Other     0  \n",
              "2    Natural Stone, Other: Rock  None  \n",
              "3  Ceramic Tile, Laminate, Wood  None  \n",
              "4              Carpet, Concrete    55  "
            ],
            "text/html": [
              "\n",
              "  <div id=\"df-eb52edbe-b0b5-4eee-b71a-1d7f55cae423\">\n",
              "    <div class=\"colab-df-container\">\n",
              "      <div>\n",
              "<style scoped>\n",
              "    .dataframe tbody tr th:only-of-type {\n",
              "        vertical-align: middle;\n",
              "    }\n",
              "\n",
              "    .dataframe tbody tr th {\n",
              "        vertical-align: top;\n",
              "    }\n",
              "\n",
              "    .dataframe thead th {\n",
              "        text-align: right;\n",
              "    }\n",
              "</style>\n",
              "<table border=\"1\" class=\"dataframe\">\n",
              "  <thead>\n",
              "    <tr style=\"text-align: right;\">\n",
              "      <th></th>\n",
              "      <th>MLS</th>\n",
              "      <th>sold_price</th>\n",
              "      <th>zipcode</th>\n",
              "      <th>longitude</th>\n",
              "      <th>latitude</th>\n",
              "      <th>lot_acres</th>\n",
              "      <th>taxes</th>\n",
              "      <th>year_built</th>\n",
              "      <th>bedrooms</th>\n",
              "      <th>bathrooms</th>\n",
              "      <th>sqrt_ft</th>\n",
              "      <th>garage</th>\n",
              "      <th>kitchen_features</th>\n",
              "      <th>fireplaces</th>\n",
              "      <th>floor_covering</th>\n",
              "      <th>HOA</th>\n",
              "    </tr>\n",
              "  </thead>\n",
              "  <tbody>\n",
              "    <tr>\n",
              "      <th>0</th>\n",
              "      <td>21530491</td>\n",
              "      <td>5300000.0</td>\n",
              "      <td>85637</td>\n",
              "      <td>-110.378200</td>\n",
              "      <td>31.356362</td>\n",
              "      <td>2154.00</td>\n",
              "      <td>5272.00</td>\n",
              "      <td>1941</td>\n",
              "      <td>13</td>\n",
              "      <td>10</td>\n",
              "      <td>10500</td>\n",
              "      <td>0</td>\n",
              "      <td>Dishwasher, Freezer, Refrigerator, Oven</td>\n",
              "      <td>6</td>\n",
              "      <td>Mexican Tile, Wood</td>\n",
              "      <td>0</td>\n",
              "    </tr>\n",
              "    <tr>\n",
              "      <th>1</th>\n",
              "      <td>21529082</td>\n",
              "      <td>4200000.0</td>\n",
              "      <td>85646</td>\n",
              "      <td>-111.045371</td>\n",
              "      <td>31.594213</td>\n",
              "      <td>1707.00</td>\n",
              "      <td>10422.36</td>\n",
              "      <td>1997</td>\n",
              "      <td>2</td>\n",
              "      <td>2</td>\n",
              "      <td>7300</td>\n",
              "      <td>0</td>\n",
              "      <td>Dishwasher, Garbage Disposal</td>\n",
              "      <td>5</td>\n",
              "      <td>Natural Stone, Other</td>\n",
              "      <td>0</td>\n",
              "    </tr>\n",
              "    <tr>\n",
              "      <th>2</th>\n",
              "      <td>3054672</td>\n",
              "      <td>4200000.0</td>\n",
              "      <td>85646</td>\n",
              "      <td>-111.040707</td>\n",
              "      <td>31.594844</td>\n",
              "      <td>1707.00</td>\n",
              "      <td>10482.00</td>\n",
              "      <td>1997</td>\n",
              "      <td>2</td>\n",
              "      <td>3</td>\n",
              "      <td>None</td>\n",
              "      <td>None</td>\n",
              "      <td>Dishwasher, Garbage Disposal, Refrigerator</td>\n",
              "      <td>5</td>\n",
              "      <td>Natural Stone, Other: Rock</td>\n",
              "      <td>None</td>\n",
              "    </tr>\n",
              "    <tr>\n",
              "      <th>3</th>\n",
              "      <td>21919321</td>\n",
              "      <td>4500000.0</td>\n",
              "      <td>85646</td>\n",
              "      <td>-111.035925</td>\n",
              "      <td>31.645878</td>\n",
              "      <td>636.67</td>\n",
              "      <td>8418.58</td>\n",
              "      <td>1930</td>\n",
              "      <td>7</td>\n",
              "      <td>5</td>\n",
              "      <td>9019</td>\n",
              "      <td>4</td>\n",
              "      <td>Dishwasher, Double Sink, Pantry: Butler, Refri...</td>\n",
              "      <td>4</td>\n",
              "      <td>Ceramic Tile, Laminate, Wood</td>\n",
              "      <td>None</td>\n",
              "    </tr>\n",
              "    <tr>\n",
              "      <th>4</th>\n",
              "      <td>21306357</td>\n",
              "      <td>3411450.0</td>\n",
              "      <td>85750</td>\n",
              "      <td>-110.813768</td>\n",
              "      <td>32.285162</td>\n",
              "      <td>3.21</td>\n",
              "      <td>15393.00</td>\n",
              "      <td>1995</td>\n",
              "      <td>4</td>\n",
              "      <td>6</td>\n",
              "      <td>6396</td>\n",
              "      <td>3</td>\n",
              "      <td>Dishwasher, Garbage Disposal, Refrigerator, Mi...</td>\n",
              "      <td>5</td>\n",
              "      <td>Carpet, Concrete</td>\n",
              "      <td>55</td>\n",
              "    </tr>\n",
              "  </tbody>\n",
              "</table>\n",
              "</div>\n",
              "      <button class=\"colab-df-convert\" onclick=\"convertToInteractive('df-eb52edbe-b0b5-4eee-b71a-1d7f55cae423')\"\n",
              "              title=\"Convert this dataframe to an interactive table.\"\n",
              "              style=\"display:none;\">\n",
              "        \n",
              "  <svg xmlns=\"http://www.w3.org/2000/svg\" height=\"24px\"viewBox=\"0 0 24 24\"\n",
              "       width=\"24px\">\n",
              "    <path d=\"M0 0h24v24H0V0z\" fill=\"none\"/>\n",
              "    <path d=\"M18.56 5.44l.94 2.06.94-2.06 2.06-.94-2.06-.94-.94-2.06-.94 2.06-2.06.94zm-11 1L8.5 8.5l.94-2.06 2.06-.94-2.06-.94L8.5 2.5l-.94 2.06-2.06.94zm10 10l.94 2.06.94-2.06 2.06-.94-2.06-.94-.94-2.06-.94 2.06-2.06.94z\"/><path d=\"M17.41 7.96l-1.37-1.37c-.4-.4-.92-.59-1.43-.59-.52 0-1.04.2-1.43.59L10.3 9.45l-7.72 7.72c-.78.78-.78 2.05 0 2.83L4 21.41c.39.39.9.59 1.41.59.51 0 1.02-.2 1.41-.59l7.78-7.78 2.81-2.81c.8-.78.8-2.07 0-2.86zM5.41 20L4 18.59l7.72-7.72 1.47 1.35L5.41 20z\"/>\n",
              "  </svg>\n",
              "      </button>\n",
              "      \n",
              "  <style>\n",
              "    .colab-df-container {\n",
              "      display:flex;\n",
              "      flex-wrap:wrap;\n",
              "      gap: 12px;\n",
              "    }\n",
              "\n",
              "    .colab-df-convert {\n",
              "      background-color: #E8F0FE;\n",
              "      border: none;\n",
              "      border-radius: 50%;\n",
              "      cursor: pointer;\n",
              "      display: none;\n",
              "      fill: #1967D2;\n",
              "      height: 32px;\n",
              "      padding: 0 0 0 0;\n",
              "      width: 32px;\n",
              "    }\n",
              "\n",
              "    .colab-df-convert:hover {\n",
              "      background-color: #E2EBFA;\n",
              "      box-shadow: 0px 1px 2px rgba(60, 64, 67, 0.3), 0px 1px 3px 1px rgba(60, 64, 67, 0.15);\n",
              "      fill: #174EA6;\n",
              "    }\n",
              "\n",
              "    [theme=dark] .colab-df-convert {\n",
              "      background-color: #3B4455;\n",
              "      fill: #D2E3FC;\n",
              "    }\n",
              "\n",
              "    [theme=dark] .colab-df-convert:hover {\n",
              "      background-color: #434B5C;\n",
              "      box-shadow: 0px 1px 3px 1px rgba(0, 0, 0, 0.15);\n",
              "      filter: drop-shadow(0px 1px 2px rgba(0, 0, 0, 0.3));\n",
              "      fill: #FFFFFF;\n",
              "    }\n",
              "  </style>\n",
              "\n",
              "      <script>\n",
              "        const buttonEl =\n",
              "          document.querySelector('#df-eb52edbe-b0b5-4eee-b71a-1d7f55cae423 button.colab-df-convert');\n",
              "        buttonEl.style.display =\n",
              "          google.colab.kernel.accessAllowed ? 'block' : 'none';\n",
              "\n",
              "        async function convertToInteractive(key) {\n",
              "          const element = document.querySelector('#df-eb52edbe-b0b5-4eee-b71a-1d7f55cae423');\n",
              "          const dataTable =\n",
              "            await google.colab.kernel.invokeFunction('convertToInteractive',\n",
              "                                                     [key], {});\n",
              "          if (!dataTable) return;\n",
              "\n",
              "          const docLinkHtml = 'Like what you see? Visit the ' +\n",
              "            '<a target=\"_blank\" href=https://colab.research.google.com/notebooks/data_table.ipynb>data table notebook</a>'\n",
              "            + ' to learn more about interactive tables.';\n",
              "          element.innerHTML = '';\n",
              "          dataTable['output_type'] = 'display_data';\n",
              "          await google.colab.output.renderOutput(dataTable, element);\n",
              "          const docLink = document.createElement('div');\n",
              "          docLink.innerHTML = docLinkHtml;\n",
              "          element.appendChild(docLink);\n",
              "        }\n",
              "      </script>\n",
              "    </div>\n",
              "  </div>\n",
              "  "
            ]
          },
          "metadata": {},
          "execution_count": 99
        }
      ]
    },
    {
      "cell_type": "code",
      "source": [
        "X=df5[['sold_price','sqrt_ft','longitude','latitude','bedrooms']].copy()\n"
      ],
      "metadata": {
        "id": "d8AbNvTOIg0O"
      },
      "execution_count": null,
      "outputs": []
    },
    {
      "cell_type": "code",
      "source": [
        "Q1=X.sold_price.quantile(.25)\n",
        "Q3=X.sold_price.quantile(.75)\n",
        "IQR=Q3-Q1\n",
        "lower_limit=Q1-1.5*IQR\n",
        "upper_limit=Q3+1.5*IQR\n",
        "X=X[(X.sold_price>lower_limit)&(X.sold_price<upper_limit)]"
      ],
      "metadata": {
        "id": "glUJp0-zIuNs"
      },
      "execution_count": null,
      "outputs": []
    },
    {
      "cell_type": "code",
      "source": [
        "X['sqrt_ft']=pd.to_numeric(X['sqrt_ft'],errors='coerce')\n",
        "X['sqrt_ft']=X['sqrt_ft'].fillna(X.sqrt_ft.mean())"
      ],
      "metadata": {
        "id": "JDG4UOEYJNT5"
      },
      "execution_count": null,
      "outputs": []
    },
    {
      "cell_type": "code",
      "source": [
        "X[['longitude']]=X[['longitude']].astype(int)"
      ],
      "metadata": {
        "id": "S_v3guctJpgl"
      },
      "execution_count": null,
      "outputs": []
    },
    {
      "cell_type": "code",
      "source": [
        "X[['latitude']]=X[['latitude']].astype(int)"
      ],
      "metadata": {
        "id": "n-pmIJnFJx_j"
      },
      "execution_count": null,
      "outputs": []
    },
    {
      "cell_type": "code",
      "source": [
        "X[['sqrt_ft']]=X[['sqrt_ft']].astype(int)"
      ],
      "metadata": {
        "id": "BGOT3BE4J3cd"
      },
      "execution_count": null,
      "outputs": []
    },
    {
      "cell_type": "code",
      "source": [
        "X['sold_price']=X['sold_price'].astype(int)\n",
        "X['bedrooms']=X['bedrooms'].astype(int)"
      ],
      "metadata": {
        "id": "KJz4juqZJ9nv"
      },
      "execution_count": null,
      "outputs": []
    },
    {
      "cell_type": "code",
      "source": [
        "X1=X[X.sold_price<600000]\n",
        "X2=X[X.sold_price <=900000]\n",
        "X3=X[X.sold_price <=1200000]\n",
        "X1"
      ],
      "metadata": {
        "colab": {
          "base_uri": "https://localhost:8080/",
          "height": 424
        },
        "id": "C0r-9BBIKZIM",
        "outputId": "47e40546-94ce-498e-f40a-196889444dd5"
      },
      "execution_count": null,
      "outputs": [
        {
          "output_type": "execute_result",
          "data": {
            "text/plain": [
              "      sold_price  sqrt_ft  longitude  latitude  bedrooms\n",
              "1692      565000     4248       -111        31         3\n",
              "1728      565000     3588       -111        31         3\n",
              "1735      565000     4248       -111        31         3\n",
              "1984      525000     5745       -111        32         5\n",
              "2028      550000     5825       -110        31         1\n",
              "...          ...      ...        ...       ...       ...\n",
              "4995      495000     3601       -110        31         5\n",
              "4996      550000     2318       -110        32         4\n",
              "4997      475000     1772       -110        32         3\n",
              "4998      550000     3724       -111        32         4\n",
              "4999      450000     4317       -110        31         4\n",
              "\n",
              "[1430 rows x 5 columns]"
            ],
            "text/html": [
              "\n",
              "  <div id=\"df-94cd60b3-7a89-429d-8a8e-e3a126e69d53\">\n",
              "    <div class=\"colab-df-container\">\n",
              "      <div>\n",
              "<style scoped>\n",
              "    .dataframe tbody tr th:only-of-type {\n",
              "        vertical-align: middle;\n",
              "    }\n",
              "\n",
              "    .dataframe tbody tr th {\n",
              "        vertical-align: top;\n",
              "    }\n",
              "\n",
              "    .dataframe thead th {\n",
              "        text-align: right;\n",
              "    }\n",
              "</style>\n",
              "<table border=\"1\" class=\"dataframe\">\n",
              "  <thead>\n",
              "    <tr style=\"text-align: right;\">\n",
              "      <th></th>\n",
              "      <th>sold_price</th>\n",
              "      <th>sqrt_ft</th>\n",
              "      <th>longitude</th>\n",
              "      <th>latitude</th>\n",
              "      <th>bedrooms</th>\n",
              "    </tr>\n",
              "  </thead>\n",
              "  <tbody>\n",
              "    <tr>\n",
              "      <th>1692</th>\n",
              "      <td>565000</td>\n",
              "      <td>4248</td>\n",
              "      <td>-111</td>\n",
              "      <td>31</td>\n",
              "      <td>3</td>\n",
              "    </tr>\n",
              "    <tr>\n",
              "      <th>1728</th>\n",
              "      <td>565000</td>\n",
              "      <td>3588</td>\n",
              "      <td>-111</td>\n",
              "      <td>31</td>\n",
              "      <td>3</td>\n",
              "    </tr>\n",
              "    <tr>\n",
              "      <th>1735</th>\n",
              "      <td>565000</td>\n",
              "      <td>4248</td>\n",
              "      <td>-111</td>\n",
              "      <td>31</td>\n",
              "      <td>3</td>\n",
              "    </tr>\n",
              "    <tr>\n",
              "      <th>1984</th>\n",
              "      <td>525000</td>\n",
              "      <td>5745</td>\n",
              "      <td>-111</td>\n",
              "      <td>32</td>\n",
              "      <td>5</td>\n",
              "    </tr>\n",
              "    <tr>\n",
              "      <th>2028</th>\n",
              "      <td>550000</td>\n",
              "      <td>5825</td>\n",
              "      <td>-110</td>\n",
              "      <td>31</td>\n",
              "      <td>1</td>\n",
              "    </tr>\n",
              "    <tr>\n",
              "      <th>...</th>\n",
              "      <td>...</td>\n",
              "      <td>...</td>\n",
              "      <td>...</td>\n",
              "      <td>...</td>\n",
              "      <td>...</td>\n",
              "    </tr>\n",
              "    <tr>\n",
              "      <th>4995</th>\n",
              "      <td>495000</td>\n",
              "      <td>3601</td>\n",
              "      <td>-110</td>\n",
              "      <td>31</td>\n",
              "      <td>5</td>\n",
              "    </tr>\n",
              "    <tr>\n",
              "      <th>4996</th>\n",
              "      <td>550000</td>\n",
              "      <td>2318</td>\n",
              "      <td>-110</td>\n",
              "      <td>32</td>\n",
              "      <td>4</td>\n",
              "    </tr>\n",
              "    <tr>\n",
              "      <th>4997</th>\n",
              "      <td>475000</td>\n",
              "      <td>1772</td>\n",
              "      <td>-110</td>\n",
              "      <td>32</td>\n",
              "      <td>3</td>\n",
              "    </tr>\n",
              "    <tr>\n",
              "      <th>4998</th>\n",
              "      <td>550000</td>\n",
              "      <td>3724</td>\n",
              "      <td>-111</td>\n",
              "      <td>32</td>\n",
              "      <td>4</td>\n",
              "    </tr>\n",
              "    <tr>\n",
              "      <th>4999</th>\n",
              "      <td>450000</td>\n",
              "      <td>4317</td>\n",
              "      <td>-110</td>\n",
              "      <td>31</td>\n",
              "      <td>4</td>\n",
              "    </tr>\n",
              "  </tbody>\n",
              "</table>\n",
              "<p>1430 rows × 5 columns</p>\n",
              "</div>\n",
              "      <button class=\"colab-df-convert\" onclick=\"convertToInteractive('df-94cd60b3-7a89-429d-8a8e-e3a126e69d53')\"\n",
              "              title=\"Convert this dataframe to an interactive table.\"\n",
              "              style=\"display:none;\">\n",
              "        \n",
              "  <svg xmlns=\"http://www.w3.org/2000/svg\" height=\"24px\"viewBox=\"0 0 24 24\"\n",
              "       width=\"24px\">\n",
              "    <path d=\"M0 0h24v24H0V0z\" fill=\"none\"/>\n",
              "    <path d=\"M18.56 5.44l.94 2.06.94-2.06 2.06-.94-2.06-.94-.94-2.06-.94 2.06-2.06.94zm-11 1L8.5 8.5l.94-2.06 2.06-.94-2.06-.94L8.5 2.5l-.94 2.06-2.06.94zm10 10l.94 2.06.94-2.06 2.06-.94-2.06-.94-.94-2.06-.94 2.06-2.06.94z\"/><path d=\"M17.41 7.96l-1.37-1.37c-.4-.4-.92-.59-1.43-.59-.52 0-1.04.2-1.43.59L10.3 9.45l-7.72 7.72c-.78.78-.78 2.05 0 2.83L4 21.41c.39.39.9.59 1.41.59.51 0 1.02-.2 1.41-.59l7.78-7.78 2.81-2.81c.8-.78.8-2.07 0-2.86zM5.41 20L4 18.59l7.72-7.72 1.47 1.35L5.41 20z\"/>\n",
              "  </svg>\n",
              "      </button>\n",
              "      \n",
              "  <style>\n",
              "    .colab-df-container {\n",
              "      display:flex;\n",
              "      flex-wrap:wrap;\n",
              "      gap: 12px;\n",
              "    }\n",
              "\n",
              "    .colab-df-convert {\n",
              "      background-color: #E8F0FE;\n",
              "      border: none;\n",
              "      border-radius: 50%;\n",
              "      cursor: pointer;\n",
              "      display: none;\n",
              "      fill: #1967D2;\n",
              "      height: 32px;\n",
              "      padding: 0 0 0 0;\n",
              "      width: 32px;\n",
              "    }\n",
              "\n",
              "    .colab-df-convert:hover {\n",
              "      background-color: #E2EBFA;\n",
              "      box-shadow: 0px 1px 2px rgba(60, 64, 67, 0.3), 0px 1px 3px 1px rgba(60, 64, 67, 0.15);\n",
              "      fill: #174EA6;\n",
              "    }\n",
              "\n",
              "    [theme=dark] .colab-df-convert {\n",
              "      background-color: #3B4455;\n",
              "      fill: #D2E3FC;\n",
              "    }\n",
              "\n",
              "    [theme=dark] .colab-df-convert:hover {\n",
              "      background-color: #434B5C;\n",
              "      box-shadow: 0px 1px 3px 1px rgba(0, 0, 0, 0.15);\n",
              "      filter: drop-shadow(0px 1px 2px rgba(0, 0, 0, 0.3));\n",
              "      fill: #FFFFFF;\n",
              "    }\n",
              "  </style>\n",
              "\n",
              "      <script>\n",
              "        const buttonEl =\n",
              "          document.querySelector('#df-94cd60b3-7a89-429d-8a8e-e3a126e69d53 button.colab-df-convert');\n",
              "        buttonEl.style.display =\n",
              "          google.colab.kernel.accessAllowed ? 'block' : 'none';\n",
              "\n",
              "        async function convertToInteractive(key) {\n",
              "          const element = document.querySelector('#df-94cd60b3-7a89-429d-8a8e-e3a126e69d53');\n",
              "          const dataTable =\n",
              "            await google.colab.kernel.invokeFunction('convertToInteractive',\n",
              "                                                     [key], {});\n",
              "          if (!dataTable) return;\n",
              "\n",
              "          const docLinkHtml = 'Like what you see? Visit the ' +\n",
              "            '<a target=\"_blank\" href=https://colab.research.google.com/notebooks/data_table.ipynb>data table notebook</a>'\n",
              "            + ' to learn more about interactive tables.';\n",
              "          element.innerHTML = '';\n",
              "          dataTable['output_type'] = 'display_data';\n",
              "          await google.colab.output.renderOutput(dataTable, element);\n",
              "          const docLink = document.createElement('div');\n",
              "          docLink.innerHTML = docLinkHtml;\n",
              "          element.appendChild(docLink);\n",
              "        }\n",
              "      </script>\n",
              "    </div>\n",
              "  </div>\n",
              "  "
            ]
          },
          "metadata": {},
          "execution_count": 194
        }
      ]
    },
    {
      "cell_type": "code",
      "source": [
        "y1=X1.iloc[:,0]\n",
        "y1\n",
        "X1=X1.iloc[:,1:]\n"
      ],
      "metadata": {
        "id": "tEoCE9y4MhcD"
      },
      "execution_count": null,
      "outputs": []
    },
    {
      "cell_type": "code",
      "source": [
        "y2=X2.iloc[:,0]\n",
        "X2=X2.iloc[:,1:]"
      ],
      "metadata": {
        "id": "wECLGb5ggqnC"
      },
      "execution_count": null,
      "outputs": []
    },
    {
      "cell_type": "code",
      "source": [
        "y3=X3.iloc[:,0]\n",
        "X3=X3.iloc[:,1:]"
      ],
      "metadata": {
        "id": "BLtdl1ychrx0"
      },
      "execution_count": null,
      "outputs": []
    },
    {
      "cell_type": "code",
      "source": [
        "y3=y3.to_numpy()\n",
        "X3=X3.to_numpy()"
      ],
      "metadata": {
        "id": "m3brt6yih3oQ"
      },
      "execution_count": null,
      "outputs": []
    },
    {
      "cell_type": "code",
      "source": [
        "X2=X2.to_numpy()\n",
        "y2=y2.to_numpy()"
      ],
      "metadata": {
        "id": "pC9h6ooRfumn"
      },
      "execution_count": null,
      "outputs": []
    },
    {
      "cell_type": "code",
      "source": [
        "X1=X1.to_numpy()\n",
        "y1=y1.to_numpy()"
      ],
      "metadata": {
        "id": "RVaMlkuIf52j"
      },
      "execution_count": null,
      "outputs": []
    },
    {
      "cell_type": "code",
      "source": [
        "X1_train, X1_test, y1_train, y1_test = train_test_split(\n",
        "    X1, y1, test_size=0.2, random_state=0)"
      ],
      "metadata": {
        "id": "y9H3MClLKWT9"
      },
      "execution_count": null,
      "outputs": []
    },
    {
      "cell_type": "code",
      "source": [
        "X2_train, X2_test, y2_train, y2_test = train_test_split(\n",
        "    X2, y2, test_size=0.2, random_state=0)"
      ],
      "metadata": {
        "id": "iRrC0VbPhHTU"
      },
      "execution_count": null,
      "outputs": []
    },
    {
      "cell_type": "code",
      "source": [
        "X3_train, X3_test, y3_train, y3_test = train_test_split(\n",
        "    X3, y3, test_size=0.2, random_state=0)"
      ],
      "metadata": {
        "id": "puUvXQCOiDzK"
      },
      "execution_count": null,
      "outputs": []
    },
    {
      "cell_type": "code",
      "source": [
        "###Linear regression"
      ],
      "metadata": {
        "id": "Bpz3Y7Q7uHp3"
      },
      "execution_count": null,
      "outputs": []
    },
    {
      "cell_type": "code",
      "source": [
        "def OLS(Y,Y_hat,N):\n",
        "    return(1/(2*N)*np.sum((Y-Y_hat)**2))"
      ],
      "metadata": {
        "id": "5e4KmIGPkv29"
      },
      "execution_count": null,
      "outputs": []
    },
    {
      "cell_type": "code",
      "source": [
        "class OurLinearRegression():\n",
        "    def fit(self,X,y,eta=1e-3,epochs=1e3,show_curve=False):\n",
        "        epochs=int(epochs)\n",
        "        N,D=X.shape\n",
        "        Y=y\n",
        "        ###stochastic Gradient Descent\n",
        "        ##Randomly initialise weights\n",
        "        \n",
        "        self.W=np.random.randn(D)\n",
        "        J=np.zeros(epochs)\n",
        "        for epoch in range(epochs):\n",
        "            Y_hat=self.predict(X)\n",
        "            J[epoch] = OLS(Y,Y_hat,N)\n",
        "            ##weight update\n",
        "            self.W -=eta*(1/N)*(X.T@(Y_hat-Y))\n",
        "            \n",
        "            \n",
        "        if show_curve:\n",
        "            plt.figure()\n",
        "            plt.plot(J)\n",
        "            plt.xlabel(\"epochs\")\n",
        "            plt.ylabel(\"$\\mathcal{j}\")\n",
        "            plt.title(\"training curve\")\n",
        "            plt.show()\n",
        "            \n",
        "            \n",
        "    def predict(self,X):\n",
        "        return X@self.W"
      ],
      "metadata": {
        "id": "bO3H2E3VyKg3"
      },
      "execution_count": null,
      "outputs": []
    },
    {
      "cell_type": "code",
      "source": [
        "lnn=OurLinearRegression()"
      ],
      "metadata": {
        "id": "SGCLELNHyO-i"
      },
      "execution_count": null,
      "outputs": []
    },
    {
      "cell_type": "code",
      "source": [
        "lnn.fit(X1_train,y1_train,epochs=4e4,eta=1e-10,show_curve=True)\n",
        "\n"
      ],
      "metadata": {
        "id": "ZE4LFepThz6B",
        "colab": {
          "base_uri": "https://localhost:8080/",
          "height": 295
        },
        "outputId": "1eb414f6-4ec8-4c08-f423-75943c085073"
      },
      "execution_count": null,
      "outputs": [
        {
          "output_type": "display_data",
          "data": {
            "text/plain": [
              "<Figure size 432x288 with 1 Axes>"
            ],
            "image/png": "[encoded data removed]"
          },
          "metadata": {
            "needs_background": "light"
          }
        }
      ]
    },
    {
      "cell_type": "code",
      "source": [
        "xtest=np.array([[4248,-111,31,3]])\n",
        "\n",
        "lnn.predict(xtest)"
      ],
      "metadata": {
        "colab": {
          "base_uri": "https://localhost:8080/"
        },
        "id": "1ehgv440jWKY",
        "outputId": "95e4777f-596c-4d47-deb3-cbcc0822af44"
      },
      "execution_count": null,
      "outputs": [
        {
          "output_type": "execute_result",
          "data": {
            "text/plain": [
              "array([689240.34625885])"
            ]
          },
          "metadata": {},
          "execution_count": 234
        }
      ]
    },
    {
      "cell_type": "code",
      "source": [
        "lnn.fit(X2_train,y2_train,epochs=4e4,eta=1e-10,show_curve=True)"
      ],
      "metadata": {
        "colab": {
          "base_uri": "https://localhost:8080/",
          "height": 295
        },
        "id": "jWniLwjvhZ_7",
        "outputId": "c70264bc-41df-45ff-de0a-cf83e99833dd"
      },
      "execution_count": null,
      "outputs": [
        {
          "output_type": "display_data",
          "data": {
            "text/plain": [
              "<Figure size 432x288 with 1 Axes>"
            ],
            "image/png": "[encoded data removed]"
          },
          "metadata": {
            "needs_background": "light"
          }
        }
      ]
    },
    {
      "cell_type": "code",
      "source": [
        "xtest=np.array([[4248,-111,31,3]])\n",
        "\n",
        "lnn.predict(xtest)"
      ],
      "metadata": {
        "colab": {
          "base_uri": "https://localhost:8080/"
        },
        "id": "9CwE57yzjPF3",
        "outputId": "5f01e9ad-2ee0-42e5-a5bf-00a3b3942b25"
      },
      "execution_count": null,
      "outputs": [
        {
          "output_type": "execute_result",
          "data": {
            "text/plain": [
              "array([764160.86825739])"
            ]
          },
          "metadata": {},
          "execution_count": 236
        }
      ]
    },
    {
      "cell_type": "code",
      "source": [
        "lnn.fit(X3_train,y3_train,epochs=4e4,eta=1e-10,show_curve=True)\n"
      ],
      "metadata": {
        "colab": {
          "base_uri": "https://localhost:8080/",
          "height": 295
        },
        "id": "_0uF_ntWiSa4",
        "outputId": "d89132fe-b41d-46a5-a7b5-b78d498dd51b"
      },
      "execution_count": null,
      "outputs": [
        {
          "output_type": "display_data",
          "data": {
            "text/plain": [
              "<Figure size 432x288 with 1 Axes>"
            ],
            "image/png": "[encoded data removed]"
          },
          "metadata": {
            "needs_background": "light"
          }
        }
      ]
    },
    {
      "cell_type": "code",
      "source": [
        "xtest=np.array([[4248,-111,31,3]])\n",
        "\n",
        "lnn.predict(xtest)"
      ],
      "metadata": {
        "colab": {
          "base_uri": "https://localhost:8080/"
        },
        "id": "K_a3AYKhyYof",
        "outputId": "1c12911f-ef99-4670-cb33-3b6365281bef"
      },
      "execution_count": null,
      "outputs": [
        {
          "output_type": "execute_result",
          "data": {
            "text/plain": [
              "array([799710.36693037])"
            ]
          },
          "metadata": {},
          "execution_count": 238
        }
      ]
    },
    {
      "cell_type": "code",
      "source": [
        "from geopy import Nominatim\n",
        "geolocator = Nominatim(user_agent=\"Slayerz FTW\")\n",
        "location = geolocator.geocode(\"3824 Draper Rd Tucson\")"
      ],
      "metadata": {
        "id": "-lJbwunRw9tK"
      },
      "execution_count": null,
      "outputs": []
    },
    {
      "cell_type": "code",
      "source": [
        "loc=geolocator.geocode(\"1000 main street,Tucson\")"
      ],
      "metadata": {
        "id": "8YvhUOySxbKB"
      },
      "execution_count": null,
      "outputs": []
    },
    {
      "cell_type": "code",
      "source": [
        "loc.point[0],loc.point[1]"
      ],
      "metadata": {
        "colab": {
          "base_uri": "https://localhost:8080/"
        },
        "id": "qICMOD_sxpRZ",
        "outputId": "4d16e72a-cb0d-43d6-9e6d-4b8ef1501773"
      },
      "execution_count": null,
      "outputs": [
        {
          "output_type": "execute_result",
          "data": {
            "text/plain": [
              "(32.2751819, -111.0013483)"
            ]
          },
          "metadata": {},
          "execution_count": 75
        }
      ]
    },
    {
      "cell_type": "code",
      "source": [
        "def predprice(latitude, longitude):\n",
        "  xtest = np.array([[2418,longitude,latitude,4]])\n",
        "  n=lnn.predict(xtest)\n",
        "  print(n)\n",
        "\n",
        "def Area(area):\n",
        "  loc=geolocator.geocode(area)\n",
        "  predprice(loc.point[0],loc.point[1])\n",
        "\n"
      ],
      "metadata": {
        "id": "rvMEgq4vxwe0"
      },
      "execution_count": null,
      "outputs": []
    },
    {
      "cell_type": "code",
      "source": [
        "Area(\"8331 N poudre drive\")"
      ],
      "metadata": {
        "id": "7QyfboDJ0HEv",
        "colab": {
          "base_uri": "https://localhost:8080/"
        },
        "outputId": "fa1f334f-ded2-47a3-ee9c-f5a8ac264c9f"
      },
      "execution_count": null,
      "outputs": [
        {
          "output_type": "stream",
          "name": "stdout",
          "text": [
            "[393465.99581447]\n"
          ]
        }
      ]
    },
    {
      "cell_type": "code",
      "source": [
        "\n"
      ],
      "metadata": {
        "id": "dwcXPe6p0Opj"
      },
      "execution_count": null,
      "outputs": []
    },
    {
      "cell_type": "code",
      "source": [],
      "metadata": {
        "id": "AOqRn5Lb-Ucy"
      },
      "execution_count": null,
      "outputs": []
    },
    {
      "cell_type": "code",
      "source": [],
      "metadata": {
        "id": "OPyZ2QcG-WtS"
      },
      "execution_count": null,
      "outputs": []
    }
  ]
}